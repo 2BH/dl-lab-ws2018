{
 "cells": [
  {
   "cell_type": "code",
   "execution_count": 2,
   "metadata": {},
   "outputs": [
    {
     "name": "stdout",
     "output_type": "stream",
     "text": [
      "... loading data\n",
      "... done loading data\n",
      "WARNING:tensorflow:From /home/bzhang/Documents/dl-lab-ws2018/exercise2/cnn_model.py:61: softmax_cross_entropy_with_logits (from tensorflow.python.ops.nn_ops) is deprecated and will be removed in a future version.\n",
      "Instructions for updating:\n",
      "\n",
      "Future major versions of TensorFlow will allow gradients to flow\n",
      "into the labels input on backprop by default.\n",
      "\n",
      "See `tf.nn.softmax_cross_entropy_with_logits_v2`.\n",
      "\n",
      "2018-11-08 17:28:24.324847: I tensorflow/core/platform/cpu_feature_guard.cc:141] Your CPU supports instructions that this TensorFlow binary was not compiled to use: SSE4.1 SSE4.2 AVX AVX2 FMA\n",
      "2018-11-08 17:28:24.325130: I tensorflow/core/common_runtime/process_util.cc:69] Creating new thread pool with default inter op setting: 2. Tune using inter_op_parallelism_threads for best performance.\n",
      "[1/12]: train_accuracy: 0.8847, valid_accuracy: 0.8997\n",
      "[2/12]: train_accuracy: 0.8955, valid_accuracy: 0.9071\n",
      "[3/12]: train_accuracy: 0.8997, valid_accuracy: 0.9101\n",
      "[4/12]: train_accuracy: 0.9033, valid_accuracy: 0.9120\n",
      "[5/12]: train_accuracy: 0.9055, valid_accuracy: 0.9143\n",
      "[6/12]: train_accuracy: 0.9078, valid_accuracy: 0.9154\n",
      "[7/12]: train_accuracy: 0.9091, valid_accuracy: 0.9162\n",
      "[8/12]: train_accuracy: 0.9104, valid_accuracy: 0.9176\n",
      "[9/12]: train_accuracy: 0.9115, valid_accuracy: 0.9186\n",
      "[10/12]: train_accuracy: 0.9124, valid_accuracy: 0.9191\n",
      "[11/12]: train_accuracy: 0.9132, valid_accuracy: 0.9198\n",
      "[12/12]: train_accuracy: 0.9141, valid_accuracy: 0.9203\n",
      "test error: 0.0842\n",
      "... loading data\n",
      "... done loading data\n",
      "WARNING:tensorflow:From /home/bzhang/Documents/dl-lab-ws2018/exercise2/cnn_model.py:61: softmax_cross_entropy_with_logits (from tensorflow.python.ops.nn_ops) is deprecated and will be removed in a future version.\n",
      "Instructions for updating:\n",
      "\n",
      "Future major versions of TensorFlow will allow gradients to flow\n",
      "into the labels input on backprop by default.\n",
      "\n",
      "See `tf.nn.softmax_cross_entropy_with_logits_v2`.\n",
      "\n",
      "2018-11-08 17:42:33.215738: I tensorflow/core/platform/cpu_feature_guard.cc:141] Your CPU supports instructions that this TensorFlow binary was not compiled to use: SSE4.1 SSE4.2 AVX AVX2 FMA\n",
      "2018-11-08 17:42:33.216015: I tensorflow/core/common_runtime/process_util.cc:69] Creating new thread pool with default inter op setting: 2. Tune using inter_op_parallelism_threads for best performance.\n",
      "[1/12]: train_accuracy: 0.9476, valid_accuracy: 0.9551\n",
      "[2/12]: train_accuracy: 0.9762, valid_accuracy: 0.9789\n",
      "[3/12]: train_accuracy: 0.9853, valid_accuracy: 0.9842\n",
      "[4/12]: train_accuracy: 0.9878, valid_accuracy: 0.9848\n",
      "[5/12]: train_accuracy: 0.9899, valid_accuracy: 0.9851\n",
      "[6/12]: train_accuracy: 0.9911, valid_accuracy: 0.9858\n",
      "[7/12]: train_accuracy: 0.9919, valid_accuracy: 0.9862\n",
      "[8/12]: train_accuracy: 0.9927, valid_accuracy: 0.9863\n",
      "[9/12]: train_accuracy: 0.9935, valid_accuracy: 0.9867\n",
      "[10/12]: train_accuracy: 0.9941, valid_accuracy: 0.9871\n",
      "[11/12]: train_accuracy: 0.9944, valid_accuracy: 0.9866\n",
      "[12/12]: train_accuracy: 0.9947, valid_accuracy: 0.9871\n",
      "test error: 0.0109\n",
      "... loading data\n",
      "... done loading data\n",
      "WARNING:tensorflow:From /home/bzhang/Documents/dl-lab-ws2018/exercise2/cnn_model.py:61: softmax_cross_entropy_with_logits (from tensorflow.python.ops.nn_ops) is deprecated and will be removed in a future version.\n",
      "Instructions for updating:\n",
      "\n",
      "Future major versions of TensorFlow will allow gradients to flow\n",
      "into the labels input on backprop by default.\n",
      "\n",
      "See `tf.nn.softmax_cross_entropy_with_logits_v2`.\n",
      "\n",
      "2018-11-08 18:03:58.634583: I tensorflow/core/platform/cpu_feature_guard.cc:141] Your CPU supports instructions that this TensorFlow binary was not compiled to use: SSE4.1 SSE4.2 AVX AVX2 FMA\n",
      "2018-11-08 18:03:58.634836: I tensorflow/core/common_runtime/process_util.cc:69] Creating new thread pool with default inter op setting: 2. Tune using inter_op_parallelism_threads for best performance.\n",
      "[1/12]: train_accuracy: 0.9593, valid_accuracy: 0.9664\n",
      "[2/12]: train_accuracy: 0.9821, valid_accuracy: 0.9821\n",
      "[3/12]: train_accuracy: 0.9858, valid_accuracy: 0.9848\n",
      "[4/12]: train_accuracy: 0.9874, valid_accuracy: 0.9855\n",
      "[5/12]: train_accuracy: 0.9892, valid_accuracy: 0.9864\n",
      "[6/12]: train_accuracy: 0.9912, valid_accuracy: 0.9861\n",
      "[7/12]: train_accuracy: 0.9927, valid_accuracy: 0.9867\n",
      "[8/12]: train_accuracy: 0.9940, valid_accuracy: 0.9869\n",
      "[9/12]: train_accuracy: 0.9949, valid_accuracy: 0.9869\n",
      "[10/12]: train_accuracy: 0.9956, valid_accuracy: 0.9870\n",
      "[11/12]: train_accuracy: 0.9958, valid_accuracy: 0.9872\n",
      "[12/12]: train_accuracy: 0.9961, valid_accuracy: 0.9874\n",
      "test error: 0.0108\n"
     ]
    }
   ],
   "source": [
    "#!conda install tensorflow\n",
    "#!pip install --upgrade pip\n",
    "#!conda install tensorflow\n",
    "#import struct;print(struct.calcsize(\"P\") * 8)\n",
    "#!which numpy\n",
    "!python cnn_mnist.py --learning_rate=0.1 --run_id=4 --filter_size=1\n",
    "!python cnn_mnist.py --learning_rate=0.1 --run_id=5 --filter_size=5\n",
    "!python cnn_mnist.py --learning_rate=0.1 --run_id=6 --filter_size=7"
   ]
  },
  {
   "cell_type": "code",
   "execution_count": 1,
   "metadata": {},
   "outputs": [],
   "source": [
    "import tensorflow as tf\n",
    "import numpy as np\n",
    "import matplotlib.pyplot as plt"
   ]
  },
  {
   "cell_type": "code",
   "execution_count": 2,
   "metadata": {},
   "outputs": [
    {
     "name": "stdout",
     "output_type": "stream",
     "text": [
      "Downloading data from https://storage.googleapis.com/tensorflow/tf-keras-datasets/mnist.npz\n",
      "11493376/11490434 [==============================] - 2s 0us/step\n",
      "Epoch 1/5\n",
      "60000/60000 [==============================] - 8s 134us/step - loss: 0.1982 - acc: 0.9421\n",
      "Epoch 2/5\n",
      "60000/60000 [==============================] - 8s 129us/step - loss: 0.0801 - acc: 0.9761\n",
      "Epoch 3/5\n",
      "60000/60000 [==============================] - 7s 123us/step - loss: 0.0524 - acc: 0.9836\n",
      "Epoch 4/5\n",
      "60000/60000 [==============================] - 7s 125us/step - loss: 0.0357 - acc: 0.9884\n",
      "Epoch 5/5\n",
      "60000/60000 [==============================] - 8s 126us/step - loss: 0.0277 - acc: 0.9910\n",
      "10000/10000 [==============================] - 0s 47us/step\n"
     ]
    },
    {
     "data": {
      "text/plain": [
       "[0.08625294150416739, 0.9735]"
      ]
     },
     "execution_count": 2,
     "metadata": {},
     "output_type": "execute_result"
    }
   ],
   "source": [
    "mnist = tf.keras.datasets.mnist\n",
    "\n",
    "(x_train, y_train),(x_test, y_test) = mnist.load_data()\n",
    "x_train, x_test = x_train / 255.0, x_test / 255.0\n",
    "\n",
    "model = tf.keras.models.Sequential([\n",
    "  tf.keras.layers.Flatten(),\n",
    "  tf.keras.layers.Dense(512, activation=\"relu\"),\n",
    "  tf.keras.layers.Dropout(0.2),\n",
    "  tf.keras.layers.Dense(10, activation=\"softmax\")\n",
    "])\n",
    "model.compile(optimizer='adam',\n",
    "              loss='sparse_categorical_crossentropy',\n",
    "              metrics=['accuracy'])\n",
    "\n",
    "model.fit(x_train, y_train, epochs=5)\n",
    "model.evaluate(x_test, y_test)"
   ]
  },
  {
   "cell_type": "markdown",
   "metadata": {
    "collapsed": true
   },
   "source": [
    "## Low Level APIs"
   ]
  },
  {
   "cell_type": "code",
   "execution_count": 1,
   "metadata": {
    "collapsed": true
   },
   "outputs": [],
   "source": [
    "import cnn_mnist"
   ]
  },
  {
   "cell_type": "code",
   "execution_count": 8,
   "metadata": {},
   "outputs": [
    {
     "name": "stdout",
     "output_type": "stream",
     "text": [
      "<class 'int'>\n"
     ]
    }
   ],
   "source": [
    "a = (1,2,3)\n",
    "print(type(a[2]))"
   ]
  },
  {
   "cell_type": "code",
   "execution_count": 18,
   "metadata": {},
   "outputs": [
    {
     "name": "stdout",
     "output_type": "stream",
     "text": [
      "... loading data\n",
      "... done loading data\n",
      "WARNING:tensorflow:From /home/bzhang/Documents/dl-lab-ws2018/exercise2/cnn_model.py:61: softmax_cross_entropy_with_logits (from tensorflow.python.ops.nn_ops) is deprecated and will be removed in a future version.\n",
      "Instructions for updating:\n",
      "\n",
      "Future major versions of TensorFlow will allow gradients to flow\n",
      "into the labels input on backprop by default.\n",
      "\n",
      "See `tf.nn.softmax_cross_entropy_with_logits_v2`.\n",
      "\n",
      "2018-11-08 23:19:39.814910: I tensorflow/core/platform/cpu_feature_guard.cc:141] Your CPU supports instructions that this TensorFlow binary was not compiled to use: SSE4.1 SSE4.2 AVX AVX2 FMA\n",
      "2018-11-08 23:19:39.815262: I tensorflow/core/common_runtime/process_util.cc:69] Creating new thread pool with default inter op setting: 2. Tune using inter_op_parallelism_threads for best performance.\n",
      "[1/2]: train_accuracy: 0.7757, valid_accuracy: 0.8010\n",
      "[2/2]: train_accuracy: 0.8596, valid_accuracy: 0.8784\n",
      "test error: 0.1277\n",
      "2018-11-08 23:31:01.794463: W tensorflow/core/common_runtime/bfc_allocator.cc:271] Allocator (mklcpu) ran out of memory trying to allocate 3.80GiB.  Current allocation summary follows.\n",
      "2018-11-08 23:31:01.794536: I tensorflow/core/common_runtime/bfc_allocator.cc:610] Bin (256): \tTotal Chunks: 57, Chunks in use: 57. 14.2KiB allocated for chunks. 14.2KiB in use in bin. 404B client-requested in use in bin.\n",
      "2018-11-08 23:31:01.794590: I tensorflow/core/common_runtime/bfc_allocator.cc:610] Bin (512): \tTotal Chunks: 2, Chunks in use: 2. 1.0KiB allocated for chunks. 1.0KiB in use in bin. 1.0KiB client-requested in use in bin.\n",
      "2018-11-08 23:31:01.794624: I tensorflow/core/common_runtime/bfc_allocator.cc:610] Bin (1024): \tTotal Chunks: 0, Chunks in use: 0. 0B allocated for chunks. 0B in use in bin. 0B client-requested in use in bin.\n",
      "2018-11-08 23:31:01.794711: I tensorflow/core/common_runtime/bfc_allocator.cc:610] Bin (2048): \tTotal Chunks: 1, Chunks in use: 1. 2.8KiB allocated for chunks. 2.8KiB in use in bin. 2.5KiB client-requested in use in bin.\n",
      "2018-11-08 23:31:01.794740: I tensorflow/core/common_runtime/bfc_allocator.cc:610] Bin (4096): \tTotal Chunks: 1, Chunks in use: 1. 5.0KiB allocated for chunks. 5.0KiB in use in bin. 5.0KiB client-requested in use in bin.\n",
      "2018-11-08 23:31:01.794751: I tensorflow/core/common_runtime/bfc_allocator.cc:610] Bin (8192): \tTotal Chunks: 0, Chunks in use: 0. 0B allocated for chunks. 0B in use in bin. 0B client-requested in use in bin.\n",
      "2018-11-08 23:31:01.794785: I tensorflow/core/common_runtime/bfc_allocator.cc:610] Bin (16384): \tTotal Chunks: 0, Chunks in use: 0. 0B allocated for chunks. 0B in use in bin. 0B client-requested in use in bin.\n",
      "2018-11-08 23:31:01.794809: I tensorflow/core/common_runtime/bfc_allocator.cc:610] Bin (32768): \tTotal Chunks: 0, Chunks in use: 0. 0B allocated for chunks. 0B in use in bin. 0B client-requested in use in bin.\n",
      "2018-11-08 23:31:01.794829: I tensorflow/core/common_runtime/bfc_allocator.cc:610] Bin (65536): \tTotal Chunks: 1, Chunks in use: 1. 66.2KiB allocated for chunks. 66.2KiB in use in bin. 66.0KiB client-requested in use in bin.\n",
      "2018-11-08 23:31:01.794854: I tensorflow/core/common_runtime/bfc_allocator.cc:610] Bin (131072): \tTotal Chunks: 0, Chunks in use: 0. 0B allocated for chunks. 0B in use in bin. 0B client-requested in use in bin.\n",
      "2018-11-08 23:31:01.794875: I tensorflow/core/common_runtime/bfc_allocator.cc:610] Bin (262144): \tTotal Chunks: 1, Chunks in use: 1. 390.8KiB allocated for chunks. 390.8KiB in use in bin. 390.6KiB client-requested in use in bin.\n",
      "2018-11-08 23:31:01.794902: I tensorflow/core/common_runtime/bfc_allocator.cc:610] Bin (524288): \tTotal Chunks: 1, Chunks in use: 0. 544.0KiB allocated for chunks. 0B in use in bin. 0B client-requested in use in bin.\n",
      "2018-11-08 23:31:01.794942: I tensorflow/core/common_runtime/bfc_allocator.cc:610] Bin (1048576): \tTotal Chunks: 0, Chunks in use: 0. 0B allocated for chunks. 0B in use in bin. 0B client-requested in use in bin.\n",
      "2018-11-08 23:31:01.794966: I tensorflow/core/common_runtime/bfc_allocator.cc:610] Bin (2097152): \tTotal Chunks: 0, Chunks in use: 0. 0B allocated for chunks. 0B in use in bin. 0B client-requested in use in bin.\n",
      "2018-11-08 23:31:01.794978: I tensorflow/core/common_runtime/bfc_allocator.cc:610] Bin (4194304): \tTotal Chunks: 2, Chunks in use: 0. 8.00MiB allocated for chunks. 0B in use in bin. 0B client-requested in use in bin.\n",
      "2018-11-08 23:31:01.795002: I tensorflow/core/common_runtime/bfc_allocator.cc:610] Bin (8388608): \tTotal Chunks: 1, Chunks in use: 0. 8.00MiB allocated for chunks. 0B in use in bin. 0B client-requested in use in bin.\n",
      "2018-11-08 23:31:01.795031: I tensorflow/core/common_runtime/bfc_allocator.cc:610] Bin (16777216): \tTotal Chunks: 1, Chunks in use: 1. 16.00MiB allocated for chunks. 16.00MiB in use in bin. 9.95MiB client-requested in use in bin.\n",
      "2018-11-08 23:31:01.795061: I tensorflow/core/common_runtime/bfc_allocator.cc:610] Bin (33554432): \tTotal Chunks: 0, Chunks in use: 0. 0B allocated for chunks. 0B in use in bin. 0B client-requested in use in bin.\n",
      "2018-11-08 23:31:01.795087: I tensorflow/core/common_runtime/bfc_allocator.cc:610] Bin (67108864): \tTotal Chunks: 0, Chunks in use: 0. 0B allocated for chunks. 0B in use in bin. 0B client-requested in use in bin.\n",
      "2018-11-08 23:31:01.795112: I tensorflow/core/common_runtime/bfc_allocator.cc:610] Bin (134217728): \tTotal Chunks: 0, Chunks in use: 0. 0B allocated for chunks. 0B in use in bin. 0B client-requested in use in bin.\n",
      "2018-11-08 23:31:01.795138: I tensorflow/core/common_runtime/bfc_allocator.cc:610] Bin (268435456): \tTotal Chunks: 2, Chunks in use: 0. 4.00GiB allocated for chunks. 0B in use in bin. 0B client-requested in use in bin.\n",
      "2018-11-08 23:31:01.795175: I tensorflow/core/common_runtime/bfc_allocator.cc:626] Bin for 3.80GiB was 256.00MiB, Chunk State: \n",
      "2018-11-08 23:31:01.795194: I tensorflow/core/common_runtime/bfc_allocator.cc:632]   Size: 2.00GiB | Requested Size: 2.33MiB | in_use: 0\n",
      "2018-11-08 23:31:01.795214: I tensorflow/core/common_runtime/bfc_allocator.cc:632]   Size: 2.00GiB | Requested Size: 1.46GiB | in_use: 0\n",
      "2018-11-08 23:31:01.795270: I tensorflow/core/common_runtime/bfc_allocator.cc:645] Free  at 0x7fa878eef040 of size 2147483648\n",
      "2018-11-08 23:31:01.795311: I tensorflow/core/common_runtime/bfc_allocator.cc:645] Free  at 0x7fa9064bc040 of size 2147483648\n",
      "2018-11-08 23:31:01.795336: I tensorflow/core/common_runtime/bfc_allocator.cc:645] Chunk at 0x7fa9a8dea240 of size 256\n",
      "2018-11-08 23:31:01.795357: I tensorflow/core/common_runtime/bfc_allocator.cc:645] Chunk at 0x7fa9a8dea340 of size 256\n",
      "2018-11-08 23:31:01.795379: I tensorflow/core/common_runtime/bfc_allocator.cc:645] Chunk at 0x7fa9a8dea440 of size 256\n",
      "2018-11-08 23:31:01.795389: I tensorflow/core/common_runtime/bfc_allocator.cc:645] Chunk at 0x7fa9a8dea540 of size 256\n",
      "2018-11-08 23:31:01.795409: I tensorflow/core/common_runtime/bfc_allocator.cc:645] Chunk at 0x7fa9a8dea640 of size 256\n",
      "2018-11-08 23:31:01.795429: I tensorflow/core/common_runtime/bfc_allocator.cc:645] Chunk at 0x7fa9a8dea740 of size 256\n",
      "2018-11-08 23:31:01.795449: I tensorflow/core/common_runtime/bfc_allocator.cc:645] Chunk at 0x7fa9a8dea840 of size 256\n",
      "2018-11-08 23:31:01.795475: I tensorflow/core/common_runtime/bfc_allocator.cc:645] Chunk at 0x7fa9a8dea940 of size 256\n",
      "2018-11-08 23:31:01.795499: I tensorflow/core/common_runtime/bfc_allocator.cc:645] Chunk at 0x7fa9a8deaa40 of size 256\n",
      "2018-11-08 23:31:01.795520: I tensorflow/core/common_runtime/bfc_allocator.cc:645] Chunk at 0x7fa9a8deab40 of size 256\n",
      "2018-11-08 23:31:01.795548: I tensorflow/core/common_runtime/bfc_allocator.cc:645] Chunk at 0x7fa9a8deac40 of size 256\n",
      "2018-11-08 23:31:01.795570: I tensorflow/core/common_runtime/bfc_allocator.cc:645] Chunk at 0x7fa9a8dead40 of size 256\n",
      "2018-11-08 23:31:01.795594: I tensorflow/core/common_runtime/bfc_allocator.cc:645] Chunk at 0x7fa9a8deae40 of size 256\n",
      "2018-11-08 23:31:01.795634: I tensorflow/core/common_runtime/bfc_allocator.cc:645] Chunk at 0x7fa9a8deaf40 of size 256\n",
      "2018-11-08 23:31:01.795667: I tensorflow/core/common_runtime/bfc_allocator.cc:645] Chunk at 0x7fa9a8deb040 of size 256\n",
      "2018-11-08 23:31:01.795685: I tensorflow/core/common_runtime/bfc_allocator.cc:645] Chunk at 0x7fa9a8deb140 of size 256\n",
      "2018-11-08 23:31:01.795702: I tensorflow/core/common_runtime/bfc_allocator.cc:645] Chunk at 0x7fa9a8deb240 of size 256\n",
      "2018-11-08 23:31:01.795729: I tensorflow/core/common_runtime/bfc_allocator.cc:645] Chunk at 0x7fa9a8deb340 of size 256\n",
      "2018-11-08 23:31:01.795747: I tensorflow/core/common_runtime/bfc_allocator.cc:645] Chunk at 0x7fa9a8deb440 of size 256\n",
      "2018-11-08 23:31:01.795770: I tensorflow/core/common_runtime/bfc_allocator.cc:645] Chunk at 0x7fa9a8deb540 of size 256\n",
      "2018-11-08 23:31:01.795787: I tensorflow/core/common_runtime/bfc_allocator.cc:645] Chunk at 0x7fa9a8deb640 of size 256\n",
      "2018-11-08 23:31:01.795820: I tensorflow/core/common_runtime/bfc_allocator.cc:645] Chunk at 0x7fa9a8deb740 of size 256\n",
      "2018-11-08 23:31:01.795840: I tensorflow/core/common_runtime/bfc_allocator.cc:645] Chunk at 0x7fa9a8deb840 of size 256\n",
      "2018-11-08 23:31:01.795864: I tensorflow/core/common_runtime/bfc_allocator.cc:645] Chunk at 0x7fa9a8deb940 of size 256\n",
      "2018-11-08 23:31:01.795882: I tensorflow/core/common_runtime/bfc_allocator.cc:645] Chunk at 0x7fa9a8deba40 of size 512\n",
      "2018-11-08 23:31:01.795899: I tensorflow/core/common_runtime/bfc_allocator.cc:645] Chunk at 0x7fa9a8debc40 of size 256\n",
      "2018-11-08 23:31:01.795916: I tensorflow/core/common_runtime/bfc_allocator.cc:645] Chunk at 0x7fa9a8debd40 of size 256\n",
      "2018-11-08 23:31:01.795943: I tensorflow/core/common_runtime/bfc_allocator.cc:645] Chunk at 0x7fa9a8debe40 of size 256\n",
      "2018-11-08 23:31:01.795960: I tensorflow/core/common_runtime/bfc_allocator.cc:645] Chunk at 0x7fa9a8debf40 of size 256\n",
      "2018-11-08 23:31:01.795982: I tensorflow/core/common_runtime/bfc_allocator.cc:645] Chunk at 0x7fa9a8dec040 of size 256\n",
      "2018-11-08 23:31:01.795999: I tensorflow/core/common_runtime/bfc_allocator.cc:645] Chunk at 0x7fa9a8dec140 of size 256\n",
      "2018-11-08 23:31:01.796030: I tensorflow/core/common_runtime/bfc_allocator.cc:645] Chunk at 0x7fa9a8dec240 of size 256\n",
      "2018-11-08 23:31:01.796054: I tensorflow/core/common_runtime/bfc_allocator.cc:645] Chunk at 0x7fa9a8dec340 of size 5120\n",
      "2018-11-08 23:31:01.796078: I tensorflow/core/common_runtime/bfc_allocator.cc:645] Chunk at 0x7fa9a8ded740 of size 512\n",
      "2018-11-08 23:31:01.796095: I tensorflow/core/common_runtime/bfc_allocator.cc:645] Chunk at 0x7fa9a8ded940 of size 256\n",
      "2018-11-08 23:31:01.796113: I tensorflow/core/common_runtime/bfc_allocator.cc:645] Chunk at 0x7fa9a8deda40 of size 2816\n",
      "2018-11-08 23:31:01.796131: I tensorflow/core/common_runtime/bfc_allocator.cc:645] Chunk at 0x7fa9a8dee540 of size 67840\n",
      "2018-11-08 23:31:01.796158: I tensorflow/core/common_runtime/bfc_allocator.cc:645] Chunk at 0x7fa9a8dfee40 of size 256\n",
      "2018-11-08 23:31:01.796181: I tensorflow/core/common_runtime/bfc_allocator.cc:645] Chunk at 0x7fa9a8dfef40 of size 256\n",
      "2018-11-08 23:31:01.796205: I tensorflow/core/common_runtime/bfc_allocator.cc:645] Chunk at 0x7fa9a8dff040 of size 256\n",
      "2018-11-08 23:31:01.796228: I tensorflow/core/common_runtime/bfc_allocator.cc:645] Chunk at 0x7fa9a8dff140 of size 256\n",
      "2018-11-08 23:31:01.796252: I tensorflow/core/common_runtime/bfc_allocator.cc:645] Chunk at 0x7fa9a8dff240 of size 256\n",
      "2018-11-08 23:31:01.796322: I tensorflow/core/common_runtime/bfc_allocator.cc:645] Chunk at 0x7fa9a8dff340 of size 256\n",
      "2018-11-08 23:31:01.796347: I tensorflow/core/common_runtime/bfc_allocator.cc:645] Chunk at 0x7fa9a8dff440 of size 256\n",
      "2018-11-08 23:31:01.796368: I tensorflow/core/common_runtime/bfc_allocator.cc:645] Chunk at 0x7fa9a8dff540 of size 256\n",
      "2018-11-08 23:31:01.796421: I tensorflow/core/common_runtime/bfc_allocator.cc:645] Chunk at 0x7fa9a8dff640 of size 256\n",
      "2018-11-08 23:31:01.796451: I tensorflow/core/common_runtime/bfc_allocator.cc:645] Chunk at 0x7fa9a8dff740 of size 256\n",
      "2018-11-08 23:31:01.796473: I tensorflow/core/common_runtime/bfc_allocator.cc:645] Chunk at 0x7fa9a8dff840 of size 256\n",
      "2018-11-08 23:31:01.796499: I tensorflow/core/common_runtime/bfc_allocator.cc:645] Chunk at 0x7fa9a8dff940 of size 256\n",
      "2018-11-08 23:31:01.796526: I tensorflow/core/common_runtime/bfc_allocator.cc:645] Chunk at 0x7fa9a8dffa40 of size 256\n",
      "2018-11-08 23:31:01.796553: I tensorflow/core/common_runtime/bfc_allocator.cc:645] Chunk at 0x7fa9a8dffb40 of size 256\n",
      "2018-11-08 23:31:01.796581: I tensorflow/core/common_runtime/bfc_allocator.cc:645] Chunk at 0x7fa9a8dffc40 of size 256\n",
      "2018-11-08 23:31:01.796605: I tensorflow/core/common_runtime/bfc_allocator.cc:645] Chunk at 0x7fa9a8dffd40 of size 256\n",
      "2018-11-08 23:31:01.796630: I tensorflow/core/common_runtime/bfc_allocator.cc:645] Chunk at 0x7fa9a8dffe40 of size 256\n",
      "2018-11-08 23:31:01.796707: I tensorflow/core/common_runtime/bfc_allocator.cc:645] Chunk at 0x7fa9a8dfff40 of size 256\n",
      "2018-11-08 23:31:01.796728: I tensorflow/core/common_runtime/bfc_allocator.cc:645] Chunk at 0x7fa9a8e00040 of size 256\n",
      "2018-11-08 23:31:01.796748: I tensorflow/core/common_runtime/bfc_allocator.cc:645] Chunk at 0x7fa9a8e00140 of size 256\n",
      "2018-11-08 23:31:01.796774: I tensorflow/core/common_runtime/bfc_allocator.cc:645] Chunk at 0x7fa9a8e00240 of size 256\n",
      "2018-11-08 23:31:01.796798: I tensorflow/core/common_runtime/bfc_allocator.cc:645] Chunk at 0x7fa9a8e00340 of size 256\n",
      "2018-11-08 23:31:01.796820: I tensorflow/core/common_runtime/bfc_allocator.cc:645] Chunk at 0x7fa9a8e00440 of size 256\n",
      "2018-11-08 23:31:01.796843: I tensorflow/core/common_runtime/bfc_allocator.cc:645] Chunk at 0x7fa9a8e00540 of size 256\n",
      "2018-11-08 23:31:01.796866: I tensorflow/core/common_runtime/bfc_allocator.cc:645] Chunk at 0x7fa9a8e00640 of size 256\n",
      "2018-11-08 23:31:01.796890: I tensorflow/core/common_runtime/bfc_allocator.cc:645] Chunk at 0x7fa9a8e00740 of size 400128\n",
      "2018-11-08 23:31:01.796899: I tensorflow/core/common_runtime/bfc_allocator.cc:645] Free  at 0x7fa9a8e62240 of size 557056\n",
      "2018-11-08 23:31:01.796917: I tensorflow/core/common_runtime/bfc_allocator.cc:645] Free  at 0x7fa9bc00b140 of size 4194304\n",
      "2018-11-08 23:31:01.796953: I tensorflow/core/common_runtime/bfc_allocator.cc:645] Chunk at 0x7fa9bc6f5040 of size 16777216\n",
      "2018-11-08 23:31:01.796985: I tensorflow/core/common_runtime/bfc_allocator.cc:645] Free  at 0x7fa9c8218840 of size 4194304\n",
      "2018-11-08 23:31:01.797004: I tensorflow/core/common_runtime/bfc_allocator.cc:645] Free  at 0x7fa9c8618880 of size 8388608\n",
      "2018-11-08 23:31:01.797027: I tensorflow/core/common_runtime/bfc_allocator.cc:651]      Summary of in-use Chunks by size: \n",
      "2018-11-08 23:31:01.797048: I tensorflow/core/common_runtime/bfc_allocator.cc:654] 57 Chunks of size 256 totalling 14.2KiB\n",
      "2018-11-08 23:31:01.797072: I tensorflow/core/common_runtime/bfc_allocator.cc:654] 2 Chunks of size 512 totalling 1.0KiB\n",
      "2018-11-08 23:31:01.797090: I tensorflow/core/common_runtime/bfc_allocator.cc:654] 1 Chunks of size 2816 totalling 2.8KiB\n",
      "2018-11-08 23:31:01.797116: I tensorflow/core/common_runtime/bfc_allocator.cc:654] 1 Chunks of size 5120 totalling 5.0KiB\n",
      "2018-11-08 23:31:01.797134: I tensorflow/core/common_runtime/bfc_allocator.cc:654] 1 Chunks of size 67840 totalling 66.2KiB\n",
      "2018-11-08 23:31:01.797155: I tensorflow/core/common_runtime/bfc_allocator.cc:654] 1 Chunks of size 400128 totalling 390.8KiB\n",
      "2018-11-08 23:31:01.797175: I tensorflow/core/common_runtime/bfc_allocator.cc:654] 1 Chunks of size 16777216 totalling 16.00MiB\n",
      "2018-11-08 23:31:01.797201: I tensorflow/core/common_runtime/bfc_allocator.cc:658] Sum Total of in-use chunks: 16.47MiB\n",
      "2018-11-08 23:31:01.797229: I tensorflow/core/common_runtime/bfc_allocator.cc:660] Stats: \n",
      "Limit:                  8365371392\n",
      "InUse:                    17268736\n",
      "MaxInUse:               3532621568\n",
      "NumAllocs:                  167007\n",
      "MaxAllocSize:           1568000000\n",
      "\n",
      "2018-11-08 23:31:01.797260: W tensorflow/core/common_runtime/bfc_allocator.cc:275] ___________________________________________________________________________________________________*\n",
      "2018-11-08 23:31:01.797344: W tensorflow/core/framework/op_kernel.cc:1273] OP_REQUIRES failed at mkl_util.h:983 : Resource exhausted: OOM when allocating tensor with shape[1019200000] and type float on /job:localhost/replica:0/task:0/device:CPU:0 by allocator mklcpu\n"
     ]
    },
    {
     "name": "stdout",
     "output_type": "stream",
     "text": [
      "Segmentation fault (core dumped)\r\n"
     ]
    }
   ],
   "source": [
    "!python random_search.py"
   ]
  },
  {
   "cell_type": "code",
   "execution_count": null,
   "metadata": {},
   "outputs": [],
   "source": []
  }
 ],
 "metadata": {
  "kernelspec": {
   "display_name": "Python 3",
   "language": "python",
   "name": "python3"
  },
  "language_info": {
   "codemirror_mode": {
    "name": "ipython",
    "version": 3
   },
   "file_extension": ".py",
   "mimetype": "text/x-python",
   "name": "python",
   "nbconvert_exporter": "python",
   "pygments_lexer": "ipython3",
   "version": "3.6.6"
  }
 },
 "nbformat": 4,
 "nbformat_minor": 2
}
