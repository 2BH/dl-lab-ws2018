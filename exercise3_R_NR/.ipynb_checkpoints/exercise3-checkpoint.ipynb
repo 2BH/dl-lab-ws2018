{
 "cells": [
  {
   "cell_type": "code",
   "execution_count": 21,
   "metadata": {},
   "outputs": [
    {
     "name": "stdout",
     "output_type": "stream",
     "text": [
      "... read data\n",
      "(13500, 96, 96)\n"
     ]
    },
    {
     "data": {
      "image/png": "[encoded data removed]",
      "text/plain": [
       "<matplotlib.figure.Figure at 0x12bb17080>"
      ]
     },
     "metadata": {},
     "output_type": "display_data"
    }
   ],
   "source": [
    "from __future__ import print_function\n",
    "\n",
    "import pickle\n",
    "import numpy as np\n",
    "import os\n",
    "import gzip\n",
    "import matplotlib.pyplot as plt\n",
    "\n",
    "from model import Model\n",
    "from utils import *\n",
    "from tensorboard_evaluation import Evaluation\n",
    "\n",
    "def read_data(datasets_dir=\"./data\", frac = 0.1):\n",
    "    \"\"\"\n",
    "    This method reads the states and actions recorded in drive_manually.py \n",
    "    and splits it into training/ validation set.\n",
    "    \"\"\"\n",
    "    print(\"... read data\")\n",
    "    data_file = os.path.join(datasets_dir, 'data.pkl.gzip')\n",
    "  \n",
    "    f = gzip.open(data_file,'rb')\n",
    "    data = pickle.load(f)\n",
    "\n",
    "    # get images as features and actions as targets\n",
    "    X = np.array(data[\"state\"]).astype('float32')\n",
    "    y = np.array(data[\"action\"]).astype('float32')\n",
    "\n",
    "    # split data into training and validation set\n",
    "    n_samples = len(data[\"state\"])\n",
    "    X_train, y_train = X[:int((1-frac) * n_samples)], y[:int((1-frac) * n_samples)]\n",
    "    X_valid, y_valid = X[int((1-frac) * n_samples):], y[int((1-frac) * n_samples):]\n",
    "    return X_train, y_train, X_valid, y_valid\n",
    "\n",
    "\n",
    "def preprocessing(X_train, y_train, X_valid, y_valid, history_length=1):\n",
    "\n",
    "    # TODO: preprocess your data here.\n",
    "    # 1. convert the images in X_train/X_valid to gray scale. If you use rgb2gray() from utils.py, the output shape (96, 96, 1)\n",
    "    # 2. you can either train your model with continous actions (as you get them from read_data) using regression\n",
    "    #    or you discretize the action space using action_to_id() from utils.py. If you discretize them, you'll maybe find one_hot() \n",
    "    #    useful and you may want to return X_train_unhot ... as well.\n",
    "    X_train = rgb2gray(X_train)\n",
    "    X_valid = rgb2gray(X_valid)\n",
    "    # history:\n",
    "    X_train_history = np.zeros((X_train.shape[0]-history_length+1, history_length, X_train.shape[1], X_train.shape[2]))\n",
    "    for i in range(X_train_history.shape[0]):\n",
    "        X_train_history[i] = X_train[i:i+history_length,:,:]\n",
    "    X_train_history = X_train_history.transpose(0,2,3,1)\n",
    "    \n",
    "    X_valid_history = np.zeros((X_valid.shape[0]-history_length+1, history_length, X_valid.shape[1], X_valid.shape[2]))\n",
    "    for i in range(X_valid_history.shape[0]):\n",
    "        X_valid_history[i] = X_valid[i:i+history_length,:,:]\n",
    "    X_valid_history = X_valid_history.transpose(0,2,3,1)\n",
    "    \n",
    "    # discretize actions\n",
    "    y_train_id = np.zeros(y_train.shape[0])\n",
    "    y_valid_id = np.zeros(y_valid.shape[0])\n",
    "    \n",
    "    for i in range(y_train.shape[0]):\n",
    "        y_train_id[i] = action_to_id(y_train[i])\n",
    "    for j in range(y_valid.shape[0]):\n",
    "        y_valid_id[j] = int(action_to_id(y_valid[j]))\n",
    "    y_train_id = y_train_id.astype(int)\n",
    "    y_valid_id = y_valid_id.astype(int)\n",
    "    y_train = one_hot(y_train_id)\n",
    "    y_valid = one_hot(y_valid_id)\n",
    "    \n",
    "    # History:\n",
    "    # At first you should only use the current image as input to your network to learn the next action. Then the input states\n",
    "    # have shape (96, 96,1). Later, add a history of the last N images to your state so that a state has shape (96, 96, N).\n",
    "    \n",
    "    \n",
    "    \n",
    "    return X_train, y_train, X_valid, y_valid\n",
    "\n",
    "\n",
    "def train_model(X_train, y_train, X_valid, n_minibatches, batch_size, lr, model_dir=\"./models\", tensorboard_dir=\"./tensorboard\"):\n",
    "    \n",
    "    # create result and model folders\n",
    "    if not os.path.exists(model_dir):\n",
    "        os.mkdir(model_dir)  \n",
    " \n",
    "    print(\"... train model\")\n",
    "\n",
    "\n",
    "    # TODO: specify your neural network in model.py \n",
    "    agent = Model(...)\n",
    "    \n",
    "    tensorboard_eval = Evaluation(tensorboard_dir)\n",
    "\n",
    "    # TODO: implement the training\n",
    "    # \n",
    "    # 1. write a method sample_minibatch and perform an update step\n",
    "    # 2. compute training/ validation accuracy and loss for the batch and visualize them with tensorboard. You can watch the progress of\n",
    "    #    your training in your web browser\n",
    "    # \n",
    "    # training loop\n",
    "    # for i in range(n_minibatches):\n",
    "    #     ...\n",
    "    #     tensorboard_eval.write_episode_data(...)\n",
    "      \n",
    "    # TODO: save your agent\n",
    "    # model_dir = agent.save(os.path.join(model_dir, \"agent.ckpt\"))\n",
    "    # print(\"Model saved in file: %s\" % model_dir)\n",
    "\n",
    "\n",
    "if __name__ == \"__main__\":\n",
    "\n",
    "    # read data    \n",
    "    X_train, y_train, X_valid, y_valid = read_data(\"./data\")\n",
    "\n",
    "    # preprocess data\n",
    "    X_train, y_train, X_valid, y_valid = preprocessing(X_train, y_train, X_valid, y_valid, history_length=1)\n",
    "    print(X_train.shape)\n",
    "    plt.imshow(X_train[50,:,:], cmap = 'gray')\n",
    "    plt.show()\n",
    "    # train model (you can change the parameters!)\n",
    "    #train_model(X_train, y_train, X_valid, n_minibatches=100000, batch_size=64, lr=0.0001)\n",
    " \n"
   ]
  },
  {
   "cell_type": "code",
   "execution_count": 25,
   "metadata": {
    "collapsed": true
   },
   "outputs": [],
   "source": [
    "jiangxing_juhua = 5"
   ]
  },
  {
   "cell_type": "code",
   "execution_count": 26,
   "metadata": {},
   "outputs": [
    {
     "name": "stdout",
     "output_type": "stream",
     "text": [
      "(13496, 96, 96, 5)\n"
     ]
    }
   ],
   "source": [
    "X_train_history = np.zeros((X_train.shape[0]-jiangxing_juhua+1, jiangxing_juhua, X_train.shape[1], X_train.shape[2]))\n",
    "for i in range(X_train_history.shape[0]):\n",
    "    X_train_history[i] = X_train[i:i+jiangxing_juhua,:,:]\n",
    "X_train_history = X_train_history.transpose(0,2,3,1)\n",
    "print(X_train_history.shape)"
   ]
  },
  {
   "cell_type": "code",
   "execution_count": 29,
   "metadata": {},
   "outputs": [
    {
     "data": {
      "text/plain": [
       "array([[1, 2, 3],\n",
       "       [4, 5, 6],\n",
       "       [7, 8, 9]])"
      ]
     },
     "execution_count": 29,
     "metadata": {},
     "output_type": "execute_result"
    }
   ],
   "source": [
    "a = np.array([[1,2,3],[4,5,6],[7,8,9]])\n",
    "a"
   ]
  },
  {
   "cell_type": "code",
   "execution_count": 30,
   "metadata": {},
   "outputs": [
    {
     "ename": "TypeError",
     "evalue": "only integer scalar arrays can be converted to a scalar index",
     "output_type": "error",
     "traceback": [
      "\u001b[0;31m---------------------------------------------------------------------------\u001b[0m",
      "\u001b[0;31mTypeError\u001b[0m                                 Traceback (most recent call last)",
      "\u001b[0;32m<ipython-input-30-09ab985faf45>\u001b[0m in \u001b[0;36m<module>\u001b[0;34m()\u001b[0m\n\u001b[1;32m      1\u001b[0m \u001b[0mb\u001b[0m \u001b[0;34m=\u001b[0m \u001b[0;34m[\u001b[0m\u001b[0;36m1\u001b[0m\u001b[0;34m,\u001b[0m\u001b[0;36m2\u001b[0m\u001b[0;34m,\u001b[0m\u001b[0;36m3\u001b[0m\u001b[0;34m]\u001b[0m\u001b[0;34m\u001b[0m\u001b[0m\n\u001b[1;32m      2\u001b[0m \u001b[0mindex\u001b[0m \u001b[0;34m=\u001b[0m \u001b[0mnp\u001b[0m\u001b[0;34m.\u001b[0m\u001b[0mrandom\u001b[0m\u001b[0;34m.\u001b[0m\u001b[0mpermutation\u001b[0m\u001b[0;34m(\u001b[0m\u001b[0ma\u001b[0m\u001b[0;34m.\u001b[0m\u001b[0mshape\u001b[0m\u001b[0;34m[\u001b[0m\u001b[0;36m0\u001b[0m\u001b[0;34m]\u001b[0m\u001b[0;34m)\u001b[0m\u001b[0;34m\u001b[0m\u001b[0m\n\u001b[0;32m----> 3\u001b[0;31m \u001b[0ma_new\u001b[0m\u001b[0;34m,\u001b[0m \u001b[0mb_new\u001b[0m \u001b[0;34m=\u001b[0m \u001b[0ma\u001b[0m\u001b[0;34m[\u001b[0m\u001b[0mindex\u001b[0m\u001b[0;34m]\u001b[0m\u001b[0;34m,\u001b[0m \u001b[0mb\u001b[0m\u001b[0;34m[\u001b[0m\u001b[0mindex\u001b[0m\u001b[0;34m]\u001b[0m\u001b[0;34m\u001b[0m\u001b[0m\n\u001b[0m",
      "\u001b[0;31mTypeError\u001b[0m: only integer scalar arrays can be converted to a scalar index"
     ]
    }
   ],
   "source": [
    "b = np.array([1,2,3])\n",
    "index = np.random.permutation(a.shape[0])\n",
    "a_new, b_new = a[index], b[index]"
   ]
  },
  {
   "cell_type": "code",
   "execution_count": null,
   "metadata": {
    "collapsed": true
   },
   "outputs": [],
   "source": []
  }
 ],
 "metadata": {
  "kernelspec": {
   "display_name": "Python 3",
   "language": "python",
   "name": "python3"
  },
  "language_info": {
   "codemirror_mode": {
    "name": "ipython",
    "version": 3
   },
   "file_extension": ".py",
   "mimetype": "text/x-python",
   "name": "python",
   "nbconvert_exporter": "python",
   "pygments_lexer": "ipython3",
   "version": "3.6.1"
  }
 },
 "nbformat": 4,
 "nbformat_minor": 2
}
